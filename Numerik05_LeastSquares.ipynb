{
 "cells": [
  {
   "cell_type": "code",
   "execution_count": 5,
   "id": "def7c03f-8a38-410b-837b-835e926749b1",
   "metadata": {},
   "outputs": [],
   "source": [
    "import numpy as np\n",
    "\n",
    "def QR(A):\n",
    "    \"\"\"Given a matrix A with full column rank this function uses the classical \n",
    "       Gram-Schmidt algorithm to compute a QR decomposition. It returns a tuple \n",
    "       (Q, R) of np.matrix objects with Q having shape identical to A and Q*R=A.\"\"\"\n",
    "    # TODO: Implement this function\n",
    "    c = A.shape[1]\n",
    "    Q = np.matrix(np.zeros_like(A))\n",
    "    R = np.matrix(np.zeros((c, c), dtype=A.dtype))\n",
    "    qarray = np.matrix(np.zeros_like(A))\n",
    "    for n in range(c):\n",
    "        v = A[:,n]\n",
    "        sigma = 0\n",
    "        #Sigma bestimmen wie in Nr.2\n",
    "        for i in range(n):\n",
    "            qi = qarray[:,i]\n",
    "            sigma = sigma + (np.multiply((v.H*qi)/(np.sum(np.square(np.absolute(qi)))),qi))\n",
    "        #q_n bestimmen\n",
    "        q = v - sigma\n",
    "        #qn speichern\n",
    "        qarray[:,n] = q\n",
    "        #Spalte von Q bestimmen\n",
    "        Q[:,n] = q/ np.linalg.norm(q)\n",
    "    #weil Q.H*Q=I gilt\n",
    "    R = Q.H*A\n",
    "    return Q, R\n",
    "\n",
    "def BackSubstitution(R, y):\n",
    "    \"\"\"Given a square upper triangular matrix R and a vector y of same size this \n",
    "       function solves R*x=y using backward substitution and returns x.\"\"\"\n",
    "    # TODO: Implement this function\n",
    "    n = R.shape[1]\n",
    "    x = np.matrix(np.zeros((n,1),dtype=np.dtype))\n",
    "\n",
    "   \n",
    "    for i in range(n-1,-1,-1):\n",
    "        x[i] = y[i]/R[i,i]\n",
    "        y[0:i+1] = y[0:i+1]-(R[0:i+1,i]*x[i])\n",
    "        print(y[0:i+1],i)\n",
    "    #funktion aus Blatt 3 -> berechnet x schneller\n",
    "    #x = np.linalg.solve(R,y)\n",
    "    print(\"my Solution:\",x)\n",
    "    return x\n",
    "\n",
    "def LeastSquares(A, b):\n",
    "    \"\"\"Given a matrix A and a vector b this function solves the least squares \n",
    "       problem of minimizing |A*x-b| and returns the optimal x.\"\"\"\n",
    "    q,r = QR(A);\n",
    "    #r an beiden seiten links multiplizieren um r*x=r*r^-1*Q.H*b zu erhalten, wobei y=r*r^-1*Q.H*b\n",
    "    y = r*np.linalg.inv(r)*Q.H*b\n",
    "    # TODO: Implement this function\n",
    "    #x mit der Funktion berechnen\n",
    "    return BackSubstitution(r,y)"
   ]
  },
  {
   "cell_type": "code",
   "execution_count": 6,
   "id": "1dc17368-9035-41ef-a53f-85b642ed76c9",
   "metadata": {},
   "outputs": [
    {
     "name": "stdout",
     "output_type": "stream",
     "text": [
      "If the following numbers are nearly zero, QR seems to be working.\n",
      "5.491958090978082e-15\n",
      "5.265367203872104e-16\n",
      "[[9.74226804]\n",
      " [6.96494571]\n",
      " [0.        ]] 2\n",
      "[[-1.0658141e-14]\n",
      " [ 0.0000000e+00]] 1\n",
      "[[0.]] 0\n",
      "my Solution: [[-5.329070518200751e-15]\n",
      " [1.2989690721649527]\n",
      " [-0.23711340206185674]]\n",
      "If the following number is nearly zero, least squares solving seems to be working.\n",
      "1.1058626019682192e-14\n"
     ]
    }
   ],
   "source": [
    "if __name__==\"__main__\":\n",
    "    # Try the QR decomposition\n",
    "    A=np.matrix([\n",
    "         [1.0,1.0,1.0],\n",
    "        [1.0,2.0,3.0],\n",
    "        [1.0,4.0,9.0],\n",
    "        [1.0,8.0,27.0]\n",
    "    ])\n",
    "    Q, R = QR(A)\n",
    "    print(\"If the following numbers are nearly zero, QR seems to be working.\")\n",
    "    print(np.linalg.norm(Q * R-A))\n",
    "    print(np.linalg.norm(Q.H * Q - np.eye(3)))\n",
    "    # Try solving a least squares system\n",
    "    b=np.matrix([1.0,2.0,3.0,4.0]).T\n",
    "    x=LeastSquares(A, b)\n",
    "    print(\"If the following number is nearly zero, least squares solving seems to be working.\")\n",
    "    print(np.linalg.norm(x-np.linalg.lstsq(A, b, rcond=-1)[0]))"
   ]
  },
  {
   "cell_type": "code",
   "execution_count": null,
   "id": "6233cc6a",
   "metadata": {},
   "outputs": [],
   "source": []
  }
 ],
 "metadata": {
  "kernelspec": {
   "display_name": "Python 3 (ipykernel)",
   "language": "python",
   "name": "python3"
  },
  "language_info": {
   "codemirror_mode": {
    "name": "ipython",
    "version": 3
   },
   "file_extension": ".py",
   "mimetype": "text/x-python",
   "name": "python",
   "nbconvert_exporter": "python",
   "pygments_lexer": "ipython3",
   "version": "3.10.1"
  }
 },
 "nbformat": 4,
 "nbformat_minor": 5
}
