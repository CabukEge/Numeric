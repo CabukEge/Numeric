{
 "cells": [
  {
   "cell_type": "code",
   "execution_count": 9,
   "id": "25db6bbc",
   "metadata": {
    "scrolled": true
   },
   "outputs": [
    {
     "name": "stdout",
     "output_type": "stream",
     "text": [
      "A = [[ 1 -1  1]\n",
      " [ 1  0  0]\n",
      " [ 1  1  1]\n",
      " [ 1  2  4]]\n",
      "________________\n",
      "b = [[1]\n",
      " [0]\n",
      " [2]\n",
      " [5]]\n",
      "________________\n",
      "A*A = [[ 4  2  6]\n",
      " [ 2  6  8]\n",
      " [ 6  8 18]]\n",
      "________________\n",
      "A*b = [[ 8]\n",
      " [11]\n",
      " [23]]\n",
      "________________\n",
      "(A*A)^-1 = [[ 0.55  0.15 -0.25]\n",
      " [ 0.15  0.45 -0.25]\n",
      " [-0.25 -0.25  0.25]]\n",
      "________________\n",
      "Test: ((A*A)^-1) * A =\n",
      "[[ 1.00000000e+00  1.11022302e-16 -1.11022302e-16]\n",
      " [ 4.44089210e-16  1.00000000e+00  0.00000000e+00]\n",
      " [-1.11022302e-16 -1.11022302e-16  1.00000000e+00]]\n",
      "________________\n",
      "[[0.3]\n",
      " [0.4]\n",
      " [1. ]]\n",
      "________________\n",
      "(3, 3)\n"
     ]
    }
   ],
   "source": [
    "import numpy as np\n",
    "\n",
    "A = np.matrix('1 -1 1; 1 0 0; 1 1 1; 1 2 4')\n",
    "b = np.array([[1], [0], [2], [5]])\n",
    "\n",
    "\n",
    "AA = np.matmul(A.transpose(),A)\n",
    "Ab = np.matmul(A.transpose(),b)\n",
    "AAInverse = np.linalg.inv(AA)\n",
    "Ergebnis = np.matmul(AAInverse,Ab)\n",
    "\n",
    "print(\"A =\",A)\n",
    "print(\"________________\")\n",
    "print(\"b =\",b)\n",
    "print(\"________________\")\n",
    "print(\"A*A =\",AA)\n",
    "print(\"________________\")\n",
    "print(\"A*b =\",Ab)\n",
    "print(\"________________\")\n",
    "print(\"(A*A)^-1 =\",AAInverse)\n",
    "print(\"________________\")\n",
    "print(\"Test: ((A*A)^-1) * A =\")\n",
    "print(np.matmul(AA,AAInverse))\n",
    "print(\"________________\")\n",
    "print(Ergebnis)\n",
    "print(\"________________\")\n",
    "\n",
    "\n",
    "nGridCell=3\n",
    "XNew=np.linspace(0.0,1.0,nGridCell)\n",
    "YNew=np.linspace(0.0,1.0,nGridCell)\n",
    "XNew,YNew=np.meshgrid(XNew,YNew)\n",
    "print(XNew.shape)\n",
    "\n",
    "nPoint=20\n",
    "X=np.random.rand(nPoint)\n",
    "Y=np.random.rand(nPoint)\n",
    "Z=np.random.rand(nPoint)\n",
    "print(X)\n",
    "\n"
   ]
  },
  {
   "cell_type": "markdown",
   "id": "8c148688",
   "metadata": {},
   "source": [
    "$\\rightarrow g(x) = x^2 + 0,4 x + 0,3$"
   ]
  },
  {
   "cell_type": "markdown",
   "id": "0bcbfdbe",
   "metadata": {},
   "source": []
  }
 ],
 "metadata": {
  "kernelspec": {
   "display_name": "Python 3 (ipykernel)",
   "language": "python",
   "name": "python3"
  },
  "language_info": {
   "codemirror_mode": {
    "name": "ipython",
    "version": 3
   },
   "file_extension": ".py",
   "mimetype": "text/x-python",
   "name": "python",
   "nbconvert_exporter": "python",
   "pygments_lexer": "ipython3",
   "version": "3.9.7"
  }
 },
 "nbformat": 4,
 "nbformat_minor": 5
}
