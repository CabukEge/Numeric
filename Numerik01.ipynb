{
 "cells": [
  {
   "cell_type": "markdown",
   "id": "0883dfbc-5b18-47ae-836e-e91b64090090",
   "metadata": {},
   "source": [
    "# Numerik Blatt 01"
   ]
  },
  {
   "cell_type": "markdown",
   "id": "3d5e38aa-901a-4ff2-8c39-8e5162f5c68c",
   "metadata": {},
   "source": [
    "___________________"
   ]
  },
  {
   "cell_type": "markdown",
   "id": "1ba1d994-6c8e-4111-ba3c-8659dde4333d",
   "metadata": {},
   "source": [
    "#### Von\n",
    "* Ege Cabuk"
   ]
  },
  {
   "cell_type": "markdown",
   "id": "386fc5da-a8a6-454d-90b2-bf2ce997e2ca",
   "metadata": {},
   "source": [
    "#### b)\n",
    "   $b_i = Ax = \\sum_{j=1}^{n}x_j a_j$"
   ]
  },
  {
   "cell_type": "markdown",
   "id": "590cd5bd-1649-4da9-9f30-f4fe330535e1",
   "metadata": {},
   "source": [
    "#### c)"
   ]
  },
  {
   "cell_type": "code",
   "execution_count": null,
   "id": "a2d962d8-afb3-4d8e-b7ec-e5c5ccc14655",
   "metadata": {},
   "outputs": [],
   "source": [
    "#Das ist ein Kommentar in Python!"
   ]
  },
  {
   "cell_type": "markdown",
   "id": "0a52dee6-e0e8-4cf1-a3de-52a9b0080362",
   "metadata": {},
   "source": [
    "#### d)"
   ]
  },
  {
   "cell_type": "code",
   "execution_count": 31,
   "id": "1b1aec81-b0f6-46df-ab0a-d0bd404aeac5",
   "metadata": {},
   "outputs": [
    {
     "name": "stdout",
     "output_type": "stream",
     "text": [
      "1 x 4 ZeilenVektor:  [1 2 3 4]\n"
     ]
    }
   ],
   "source": [
    "import numpy as np\n",
    "\n",
    "array1 = [1, 2, 3, 4]\n",
    "\n",
    "vektor1 = np.array(array1)\n",
    "  \n",
    "print(\"1 x 4 Zeilen Vektor: \", vektor1)"
   ]
  },
  {
   "cell_type": "markdown",
   "id": "03568e80-d984-4287-a6ad-27073b585a06",
   "metadata": {},
   "source": [
    "#### e)"
   ]
  },
  {
   "cell_type": "code",
   "execution_count": 32,
   "id": "2d357022-0692-46b1-8a9e-41c0d3acd1a8",
   "metadata": {},
   "outputs": [
    {
     "name": "stdout",
     "output_type": "stream",
     "text": [
      "5 x 1 ZeilenVektor:  [[1]\n",
      " [2]\n",
      " [3]\n",
      " [4]\n",
      " [5]]\n"
     ]
    }
   ],
   "source": [
    "import numpy as np\n",
    "\n",
    "array2 = [[1],\n",
    "           [2],\n",
    "           [3],\n",
    "           [4],\n",
    "           [5]]\n",
    "\n",
    "vektor2 = np.array(array2)\n",
    "  \n",
    "print(\"5 x 1 Zeilen Vektor: \", vektor2)"
   ]
  },
  {
   "cell_type": "markdown",
   "id": "ea69a184-d43a-479d-a007-60b442e308cb",
   "metadata": {},
   "source": [
    "#### f)"
   ]
  },
  {
   "cell_type": "code",
   "execution_count": 26,
   "id": "66b3796c-5377-4134-be9a-7b6187543325",
   "metadata": {},
   "outputs": [
    {
     "name": "stdout",
     "output_type": "stream",
     "text": [
      "[[0. 0. 0.]\n",
      " [0. 0. 0.]\n",
      " [0. 0. 0.]]\n"
     ]
    }
   ],
   "source": [
    "import numpy as np\n",
    "\n",
    "matrix_3d = np.zeros((3,3))\n",
    "print(matrix_3d)"
   ]
  },
  {
   "cell_type": "markdown",
   "id": "b730c37e-defe-4ce7-97e2-c24931cb4e26",
   "metadata": {},
   "source": [
    "#### g)"
   ]
  },
  {
   "cell_type": "code",
   "execution_count": 27,
   "id": "04bea65a-5c42-4105-aae7-bee1b9fc4f5d",
   "metadata": {},
   "outputs": [
    {
     "name": "stdout",
     "output_type": "stream",
     "text": [
      "[0. 0. 0.]\n"
     ]
    }
   ],
   "source": [
    "import numpy as np\n",
    "\n",
    "matrix = np.zeros((4,3))\n",
    "print(matrix[1])"
   ]
  },
  {
   "cell_type": "markdown",
   "id": "68a7d99f-e096-4013-9c3f-3c30b13056f7",
   "metadata": {},
   "source": [
    "#### h)"
   ]
  },
  {
   "cell_type": "code",
   "execution_count": 28,
   "id": "8d7882f4-767c-49b1-9386-96632a191096",
   "metadata": {},
   "outputs": [
    {
     "name": "stdout",
     "output_type": "stream",
     "text": [
      "[0. 0. 0. 0.]\n"
     ]
    }
   ],
   "source": [
    "import numpy as np\n",
    "\n",
    "matrix = np.zeros((4,4))\n",
    "print(matrix[2])"
   ]
  },
  {
   "cell_type": "markdown",
   "id": "9eea06dc-8ce2-4766-bdbd-30277e327d3c",
   "metadata": {},
   "source": [
    "#### i)"
   ]
  },
  {
   "cell_type": "code",
   "execution_count": 34,
   "id": "9581f74b-26a3-422d-8e43-64cce173b924",
   "metadata": {},
   "outputs": [
    {
     "name": "stdout",
     "output_type": "stream",
     "text": [
      "[[21 11 43]\n",
      " [22 22 77]\n",
      " [23 33 89]]\n"
     ]
    }
   ],
   "source": [
    "import numpy as np\n",
    "\n",
    "matrix = np.array(([21, 22, 23], [11, 22, 33], [43, 77, 89]))\n",
    "print(matrix.transpose())"
   ]
  },
  {
   "cell_type": "markdown",
   "id": "be0a1e11-5aa3-4ffe-8172-be8b94092f96",
   "metadata": {},
   "source": [
    "#### j"
   ]
  },
  {
   "cell_type": "code",
   "execution_count": 38,
   "id": "b7d1d7a7-2fb8-41ef-baf1-f31f6b67205f",
   "metadata": {},
   "outputs": [
    {
     "name": "stdout",
     "output_type": "stream",
     "text": [
      "[[ 441  484  529]\n",
      " [ 121  484 1089]\n",
      " [1849 5929 7921]]\n",
      "[[ 1672  2717  3256]\n",
      " [ 1892  3267  3916]\n",
      " [ 5577  9493 11451]]\n"
     ]
    }
   ],
   "source": [
    "import numpy as np\n",
    "\n",
    "matrix1 = np.array(([21, 22, 23], [11, 22, 33], [43, 77, 89]))\n",
    "matrix2 = np.array(([21, 22, 23], [11, 22, 33], [43, 77, 89]))\n",
    "print(matrix1 * matrix2)\n",
    "print(np.matmul(matrix1, matrix2))"
   ]
  },
  {
   "cell_type": "markdown",
   "id": "bafb2506-9828-44ee-a487-7d25c5e5d306",
   "metadata": {},
   "source": [
    "#### k)"
   ]
  },
  {
   "cell_type": "code",
   "execution_count": 54,
   "id": "221f6ecd-dd96-430c-b780-6fd4c1671567",
   "metadata": {},
   "outputs": [
    {
     "name": "stdout",
     "output_type": "stream",
     "text": [
      "Spalten hinzugefügt: \n",
      "[[21 22 23 21 22 23]\n",
      " [11 22 33 11 22 33]\n",
      " [43 77 89 43 77 89]]\n",
      "_________________________________________________\n",
      "Zeilen hinzugefügt: \n",
      "[[21 22 23 21 22 23]\n",
      " [11 22 33 11 22 33]\n",
      " [43 77 89 43 77 89]\n",
      " [21 22 23 21 22 23]\n",
      " [11 22 33 11 22 33]\n",
      " [43 77 89 43 77 89]]\n"
     ]
    }
   ],
   "source": [
    "import numpy as np\n",
    "\n",
    "matrix1 = np.array(([21, 22, 23], [11, 22, 33], [43, 77, 89]))\n",
    "matrix2 = np.array(([21, 22, 23], [11, 22, 33], [43, 77, 89]))\n",
    "matrix3_c = np.c_[matrix2, matrix1]\n",
    "matrix4_r = np.r_[matrix3, matrix3]\n",
    "print(\"Spalten hinzugefügt: \")\n",
    "print(matrix3_c)\n",
    "print(\"_________________________________________________\")\n",
    "print(\"Zeilen hinzugefügt: \")\n",
    "print(matrix4_r)"
   ]
  },
  {
   "cell_type": "markdown",
   "id": "f3f27e57-38d7-4929-acb4-69d60c9f9451",
   "metadata": {},
   "source": [
    "#### l)"
   ]
  },
  {
   "cell_type": "code",
   "execution_count": 52,
   "id": "0118d46e-5741-49b6-9e1f-6fecbf2ee350",
   "metadata": {},
   "outputs": [
    {
     "name": "stdout",
     "output_type": "stream",
     "text": [
      "(3, 3)\n"
     ]
    }
   ],
   "source": [
    "import numpy as np\n",
    "\n",
    "matrix1 = np.array(([21, 22, 23], [11, 22, 33], [43, 77, 89]))\n",
    "\n",
    "print(matrix1.shape)"
   ]
  },
  {
   "cell_type": "markdown",
   "id": "c0e21d20-c308-4888-8437-50714b78b682",
   "metadata": {},
   "source": [
    "#### m)"
   ]
  },
  {
   "cell_type": "code",
   "execution_count": 61,
   "id": "04bf8f30-630b-4729-956d-dc15852c08b4",
   "metadata": {},
   "outputs": [
    {
     "name": "stdout",
     "output_type": "stream",
     "text": [
      "[[11 22 33 43]\n",
      " [77 89 33 11]\n",
      " [22 33 43 77]\n",
      " [89 33 11 22]\n",
      " [33 43 77 89]\n",
      " [33 11 22 33]\n",
      " [43 77 89 33]\n",
      " [11 22 33 43]\n",
      " [77 89 33 11]\n",
      " [22 33 43 77]\n",
      " [89 33 11 22]\n",
      " [33 43 77 89]\n",
      " [33 11 22 33]\n",
      " [43 77 89 33]]\n"
     ]
    }
   ],
   "source": [
    "import numpy as np\n",
    "\n",
    "matrix1 = np.array(([11, 22, 33, 43, 77, 89, 33],\n",
    "                   [11, 22, 33, 43, 77, 89, 33],\n",
    "                   [11, 22, 33, 43, 77, 89, 33],\n",
    "                   [11, 22, 33, 43, 77, 89, 33],\n",
    "                   [11, 22, 33, 43, 77, 89, 33],\n",
    "                   [11, 22, 33, 43, 77, 89, 33],\n",
    "                   [11, 22, 33, 43, 77, 89, 33],\n",
    "                   [11, 22, 33, 43, 77, 89, 33]))\n",
    "\n",
    "print(matrix1.reshape(14,4))"
   ]
  },
  {
   "cell_type": "markdown",
   "id": "ab2cd03d-2ddc-4854-8e02-ab27ce858770",
   "metadata": {},
   "source": [
    "#### n)"
   ]
  },
  {
   "cell_type": "code",
   "execution_count": 69,
   "id": "df05bc70-378c-4d78-a900-460ecc5ba39f",
   "metadata": {},
   "outputs": [
    {
     "name": "stdout",
     "output_type": "stream",
     "text": [
      "[[1 1 1 ... 1 1 1]\n",
      " [2 2 2 ... 2 2 2]\n",
      " [3 3 3 ... 3 3 3]]\n"
     ]
    }
   ],
   "source": [
    "import numpy as np\n",
    "\n",
    "vektor1 = np.array([[1],\n",
    "           [2],\n",
    "           [3]])\n",
    "vektor2= np.array([[1],\n",
    "           [2],\n",
    "           [3]])\n",
    "for i in range(9999):\n",
    "     vektor1 = np.c_[vektor1, vektor2]\n",
    "    \n",
    "print(vektor1)"
   ]
  },
  {
   "cell_type": "markdown",
   "id": "b3fdbc41-683a-4a15-a19f-8281e04fc1e8",
   "metadata": {},
   "source": [
    "#### o)"
   ]
  },
  {
   "cell_type": "code",
   "execution_count": 77,
   "id": "0b3836c4-6d2c-42c7-bbab-1e519f8c464f",
   "metadata": {},
   "outputs": [
    {
     "name": "stdout",
     "output_type": "stream",
     "text": [
      "[[ 0 22 33 43 77  0 33]\n",
      " [11 22 33  0 77 89 33]\n",
      " [11 22 33 43 77 89 33]\n",
      " [11 22 33 43 77 89 33]\n",
      " [11  0 33 43  0 89 33]\n",
      " [11 22 33 43 77 89 33]\n",
      " [11 22 33 43 77 89 33]\n",
      " [11  0 33  0 77 89 33]]\n"
     ]
    }
   ],
   "source": [
    "import numpy as np\n",
    "\n",
    "matrix1 = np.array(([-11, 22, 33, 43, 77, -89, 33],\n",
    "                   [11, 22, 33, -43, 77, 89, 33],\n",
    "                   [11, 22, 33, 43, 77, 89, 33],\n",
    "                   [11, 22, 33, 43, 77, 89, 33],\n",
    "                   [11, -22, 33, 43, -77, 89, 33],\n",
    "                   [11, 22, 33, 43, 77, 89, 33],\n",
    "                   [11, 22, 33, 43, 77, 89, 33],\n",
    "                   [11, -22, 33, -43, 77, 89, 33]))\n",
    "\n",
    "for i in range(8):\n",
    "    for j in range(7):\n",
    "         if(matrix1[i][j]<0):\n",
    "                matrix1[i][j] = 0\n",
    "                \n",
    "print(matrix1)\n",
    "                "
   ]
  },
  {
   "cell_type": "markdown",
   "id": "a86a59c1-eb96-4d61-8f05-ff9f7b1ca2ba",
   "metadata": {},
   "source": [
    "#### p)"
   ]
  },
  {
   "cell_type": "code",
   "execution_count": 127,
   "id": "6582e1f5-8a66-43e8-8d7e-a4245109c7c9",
   "metadata": {},
   "outputs": [
    {
     "name": "stdout",
     "output_type": "stream",
     "text": [
      "[[ 7]\n",
      " [14]\n",
      " [21]\n",
      " [28]\n",
      " [35]\n",
      " [42]\n",
      " [49]\n",
      " [56]\n",
      " [63]\n",
      " [70]\n",
      " [77]\n",
      " [84]\n",
      " [91]\n",
      " [98]]\n"
     ]
    }
   ],
   "source": [
    "import numpy as np\n",
    "\n",
    "matrix1 = np.array([[0]])\n",
    "j = 0\n",
    "\n",
    "for i in range(100):\n",
    "    if(i == 0):\n",
    "        if(matrix1[0] == 0):\n",
    "            matrix1[0] = 7\n",
    "    if(i > 0):\n",
    "        j += 1\n",
    "        if(j == 7):\n",
    "            j = 0;\n",
    "            if(i != 7):\n",
    "                matrix1 = np.r_[matrix1, [[i]]]\n",
    "            \n",
    "        \n",
    "    \n",
    "\n",
    "                \n",
    "\n",
    "print(matrix1)\n",
    "                "
   ]
  },
  {
   "cell_type": "markdown",
   "id": "d447e794-771e-4ff4-a93b-352d7fa893f7",
   "metadata": {},
   "source": [
    "#### q)"
   ]
  },
  {
   "cell_type": "code",
   "execution_count": 168,
   "id": "e388d3e9-fc14-420f-9bad-85b36ad55af0",
   "metadata": {},
   "outputs": [
    {
     "name": "stdout",
     "output_type": "stream",
     "text": [
      "[[ 0]\n",
      " [ 0]\n",
      " [ 1]\n",
      " [ 0]\n",
      " [ 3]\n",
      " [ 0]\n",
      " [ 5]\n",
      " [ 0]\n",
      " [ 7]\n",
      " [ 0]\n",
      " [ 9]\n",
      " [ 0]\n",
      " [11]\n",
      " [ 0]\n",
      " [13]\n",
      " [ 0]\n",
      " [15]\n",
      " [ 0]\n",
      " [17]\n",
      " [ 0]\n",
      " [19]\n",
      " [ 0]\n",
      " [21]\n",
      " [ 0]\n",
      " [23]\n",
      " [ 0]\n",
      " [25]\n",
      " [ 0]\n",
      " [27]\n",
      " [ 0]\n",
      " [29]\n",
      " [ 0]\n",
      " [31]\n",
      " [ 0]\n",
      " [33]\n",
      " [ 0]\n",
      " [35]\n",
      " [ 0]\n",
      " [37]\n",
      " [ 0]\n",
      " [39]\n",
      " [ 0]\n",
      " [41]\n",
      " [ 0]\n",
      " [43]\n",
      " [ 0]\n",
      " [45]\n",
      " [ 0]\n",
      " [47]\n",
      " [ 0]\n",
      " [49]\n",
      " [ 0]\n",
      " [51]\n",
      " [ 0]\n",
      " [53]\n",
      " [ 0]\n",
      " [55]\n",
      " [ 0]\n",
      " [57]\n",
      " [ 0]\n",
      " [59]\n",
      " [ 0]\n",
      " [61]\n",
      " [ 0]\n",
      " [63]\n",
      " [ 0]\n",
      " [65]\n",
      " [ 0]\n",
      " [67]\n",
      " [ 0]\n",
      " [69]\n",
      " [ 0]\n",
      " [71]\n",
      " [ 0]\n",
      " [73]\n",
      " [ 0]\n",
      " [75]\n",
      " [ 0]\n",
      " [77]\n",
      " [ 0]\n",
      " [79]\n",
      " [ 0]\n",
      " [81]\n",
      " [ 0]\n",
      " [83]\n",
      " [ 0]\n",
      " [85]\n",
      " [ 0]\n",
      " [87]\n",
      " [ 0]\n",
      " [89]\n",
      " [ 0]\n",
      " [91]\n",
      " [ 0]\n",
      " [93]\n",
      " [ 0]\n",
      " [95]\n",
      " [ 0]\n",
      " [97]\n",
      " [ 0]\n",
      " [99]]\n"
     ]
    }
   ],
   "source": [
    "import numpy as np\n",
    "\n",
    "matrix1 = np.array([[0]])\n",
    "j = 0\n",
    "\n",
    "for i in range(100):\n",
    "     matrix1 = np.r_[matrix1, [[i]]]\n",
    "\n",
    "for i in range(100):\n",
    "    if(i == 0):\n",
    "        matrix1[i][0] = i\n",
    "    # Modulo 2 = 1 weil bei null beginnend\n",
    "    if(i%2 == 1):\n",
    "        matrix1[i][0] = 0\n",
    "                \n",
    "print(matrix1)"
   ]
  },
  {
   "cell_type": "markdown",
   "id": "79bf4fca-cf15-4eb0-80f6-1102e0ae2e3e",
   "metadata": {},
   "source": [
    "#### r)"
   ]
  },
  {
   "cell_type": "code",
   "execution_count": 177,
   "id": "a3c5fb52-6172-4f03-b7fa-91f353105a8f",
   "metadata": {},
   "outputs": [
    {
     "name": "stdout",
     "output_type": "stream",
     "text": [
      "[[ 0]\n",
      " [ 2]\n",
      " [ 4]\n",
      " [ 6]\n",
      " [ 8]\n",
      " [10]\n",
      " [12]\n",
      " [14]\n",
      " [16]\n",
      " [18]\n",
      " [20]\n",
      " [22]\n",
      " [24]\n",
      " [26]\n",
      " [28]\n",
      " [30]\n",
      " [32]\n",
      " [34]\n",
      " [36]\n",
      " [38]\n",
      " [40]\n",
      " [42]\n",
      " [44]\n",
      " [46]\n",
      " [48]\n",
      " [50]\n",
      " [52]\n",
      " [54]\n",
      " [56]\n",
      " [58]\n",
      " [60]\n",
      " [62]\n",
      " [64]\n",
      " [66]\n",
      " [68]\n",
      " [70]\n",
      " [72]\n",
      " [74]\n",
      " [76]\n",
      " [78]\n",
      " [80]\n",
      " [82]\n",
      " [84]\n",
      " [86]\n",
      " [88]\n",
      " [90]\n",
      " [92]\n",
      " [94]\n",
      " [96]\n",
      " [98]]\n"
     ]
    }
   ],
   "source": [
    "import numpy as np\n",
    "\n",
    "matrix1 = np.array([[0]])\n",
    "\n",
    "for i in range(100):\n",
    "    if(i!=0):\n",
    "        matrix1 = np.r_[matrix1, [[i]]]\n",
    "\n",
    "j = 1;\n",
    "for i in range(101):\n",
    "    if(j == 0):\n",
    "        matrix1[j][0] = j\n",
    "    if(i%2 == 0 and i!= 0):\n",
    "        matrix1 = np.delete(matrix1, j, axis=0)\n",
    "        j += 1\n",
    "        \n",
    "                \n",
    "print(matrix1)"
   ]
  },
  {
   "cell_type": "markdown",
   "id": "1c808312-d631-480e-ac5f-b92e3cd23d97",
   "metadata": {},
   "source": [
    "#### s)"
   ]
  },
  {
   "cell_type": "code",
   "execution_count": 178,
   "id": "eacc9fe4-04e2-4f65-89b8-0788b759ccee",
   "metadata": {},
   "outputs": [
    {
     "name": "stdout",
     "output_type": "stream",
     "text": [
      "[[1. 0. 0.]\n",
      " [0. 1. 0.]\n",
      " [0. 0. 1.]]\n"
     ]
    }
   ],
   "source": [
    "import numpy as np\n",
    "\n",
    "print(np.identity(3))"
   ]
  },
  {
   "cell_type": "markdown",
   "id": "4cc77188-0e26-455e-9862-67cb23e03ca6",
   "metadata": {},
   "source": [
    "#### t)"
   ]
  },
  {
   "cell_type": "code",
   "execution_count": 184,
   "id": "ebe60ef3-cce7-43a6-8dc9-25b889713916",
   "metadata": {},
   "outputs": [
    {
     "name": "stdout",
     "output_type": "stream",
     "text": [
      "-11\n",
      "22\n",
      "33\n",
      "43\n",
      "-77\n"
     ]
    },
    {
     "data": {
      "text/plain": [
       "array([-11,  22,  33,  43, -77])"
      ]
     },
     "execution_count": 184,
     "metadata": {},
     "output_type": "execute_result"
    }
   ],
   "source": [
    "import numpy as np\n",
    "\n",
    "matrix1 = np.array(([-11, 22, 33, 43, 77],\n",
    "                   [11, 22, 33, -43, 77],\n",
    "                   [11, 22, 33, 43, 77],\n",
    "                   [11, 22, 33, 43, 77],\n",
    "                   [11, -22, 33, 43, -77]))\n",
    "for i in range(5):\n",
    "    print(matrix1[i][i])\n",
    "    \n",
    "np.diag(matrix1)"
   ]
  },
  {
   "cell_type": "markdown",
   "id": "bb314f54-b8e8-4132-9cbe-eebde8bd2002",
   "metadata": {},
   "source": [
    "#### u)"
   ]
  },
  {
   "cell_type": "markdown",
   "id": "90a296b4-86c1-46ca-a9d3-0848f6ba29b8",
   "metadata": {},
   "source": [
    "#### v)"
   ]
  },
  {
   "cell_type": "code",
   "execution_count": null,
   "id": "dd7cdd91-4ccf-482f-b6aa-633b6178bc00",
   "metadata": {},
   "outputs": [],
   "source": []
  }
 ],
 "metadata": {
  "kernelspec": {
   "display_name": "Python 3 (ipykernel)",
   "language": "python",
   "name": "python3"
  },
  "language_info": {
   "codemirror_mode": {
    "name": "ipython",
    "version": 3
   },
   "file_extension": ".py",
   "mimetype": "text/x-python",
   "name": "python",
   "nbconvert_exporter": "python",
   "pygments_lexer": "ipython3",
   "version": "3.10.1"
  }
 },
 "nbformat": 4,
 "nbformat_minor": 5
}
