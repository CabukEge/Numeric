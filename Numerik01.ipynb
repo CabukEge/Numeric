{
 "cells": [
  {
   "cell_type": "markdown",
   "id": "0883dfbc-5b18-47ae-836e-e91b64090090",
   "metadata": {},
   "source": [
    "# Numerik Blatt 01"
   ]
  },
  {
   "cell_type": "markdown",
   "id": "3d5e38aa-901a-4ff2-8c39-8e5162f5c68c",
   "metadata": {},
   "source": [
    "___________________"
   ]
  },
  {
   "cell_type": "markdown",
   "id": "1ba1d994-6c8e-4111-ba3c-8659dde4333d",
   "metadata": {},
   "source": [
    "#### Von\n",
    "* Ege Cabuk"
   ]
  },
  {
   "cell_type": "markdown",
   "id": "386fc5da-a8a6-454d-90b2-bf2ce997e2ca",
   "metadata": {},
   "source": [
    "#### b)\n",
    "   $b_i = Ax = \\sum_{j=1}^{n}x_j a_j$"
   ]
  },
  {
   "cell_type": "markdown",
   "id": "590cd5bd-1649-4da9-9f30-f4fe330535e1",
   "metadata": {},
   "source": [
    "#### c)"
   ]
  },
  {
   "cell_type": "code",
   "execution_count": null,
   "id": "a2d962d8-afb3-4d8e-b7ec-e5c5ccc14655",
   "metadata": {},
   "outputs": [],
   "source": [
    "#Das ist ein Kommentar in Python!"
   ]
  },
  {
   "cell_type": "markdown",
   "id": "0a52dee6-e0e8-4cf1-a3de-52a9b0080362",
   "metadata": {},
   "source": [
    "#### d)"
   ]
  },
  {
   "cell_type": "code",
   "execution_count": null,
   "id": "1b1aec81-b0f6-46df-ab0a-d0bd404aeac5",
   "metadata": {},
   "outputs": [],
   "source": [
    "import numpy as np\n",
    "\n",
    "array1 = [1, 2, 3, 4]\n",
    "\n",
    "vektor1 = np.array(array1)\n",
    "  \n",
    "print(\"1 x 4 Zeilen Vektor: \", vektor1)"
   ]
  },
  {
   "cell_type": "markdown",
   "id": "03568e80-d984-4287-a6ad-27073b585a06",
   "metadata": {},
   "source": [
    "#### e)"
   ]
  },
  {
   "cell_type": "code",
   "execution_count": null,
   "id": "2d357022-0692-46b1-8a9e-41c0d3acd1a8",
   "metadata": {},
   "outputs": [],
   "source": [
    "import numpy as np\n",
    "\n",
    "array2 = [[1],\n",
    "           [2],\n",
    "           [3],\n",
    "           [4],\n",
    "           [5]]\n",
    "\n",
    "vektor2 = np.array(array2)\n",
    "  \n",
    "print(\"5 x 1 Zeilen Vektor: \", vektor2)"
   ]
  },
  {
   "cell_type": "markdown",
   "id": "ea69a184-d43a-479d-a007-60b442e308cb",
   "metadata": {},
   "source": [
    "#### f)"
   ]
  },
  {
   "cell_type": "code",
   "execution_count": null,
   "id": "66b3796c-5377-4134-be9a-7b6187543325",
   "metadata": {},
   "outputs": [],
   "source": [
    "import numpy as np\n",
    "\n",
    "matrix_3d = np.zeros((3,3))\n",
    "print(matrix_3d)"
   ]
  },
  {
   "cell_type": "markdown",
   "id": "b730c37e-defe-4ce7-97e2-c24931cb4e26",
   "metadata": {},
   "source": [
    "#### g)"
   ]
  },
  {
   "cell_type": "code",
   "execution_count": null,
   "id": "04bea65a-5c42-4105-aae7-bee1b9fc4f5d",
   "metadata": {},
   "outputs": [],
   "source": [
    "import numpy as np\n",
    "\n",
    "#Zum zeigen einfach eine Nullmatrix erstellt\n",
    "matrix = np.zeros((4,3))\n",
    "print(matrix[1])"
   ]
  },
  {
   "cell_type": "markdown",
   "id": "68a7d99f-e096-4013-9c3f-3c30b13056f7",
   "metadata": {},
   "source": [
    "#### h)"
   ]
  },
  {
   "cell_type": "code",
   "execution_count": null,
   "id": "8d7882f4-767c-49b1-9386-96632a191096",
   "metadata": {},
   "outputs": [],
   "source": [
    "import numpy as np\n",
    "\n",
    "matrix = np.zeros((4,4))\n",
    "print(matrix[2])"
   ]
  },
  {
   "cell_type": "markdown",
   "id": "9eea06dc-8ce2-4766-bdbd-30277e327d3c",
   "metadata": {},
   "source": [
    "#### i)"
   ]
  },
  {
   "cell_type": "code",
   "execution_count": null,
   "id": "9581f74b-26a3-422d-8e43-64cce173b924",
   "metadata": {},
   "outputs": [],
   "source": [
    "import numpy as np\n",
    "\n",
    "matrix = np.array(([21, 22, 23], [11, 22, 33], [43, 77, 89]))\n",
    "print(matrix.transpose())"
   ]
  },
  {
   "cell_type": "markdown",
   "id": "be0a1e11-5aa3-4ffe-8172-be8b94092f96",
   "metadata": {},
   "source": [
    "#### j"
   ]
  },
  {
   "cell_type": "code",
   "execution_count": null,
   "id": "b7d1d7a7-2fb8-41ef-baf1-f31f6b67205f",
   "metadata": {},
   "outputs": [],
   "source": [
    "import numpy as np\n",
    "\n",
    "matrix1 = np.array(([21, 22, 23], [11, 22, 33], [43, 77, 89]))\n",
    "matrix2 = np.array(([21, 22, 23], [11, 22, 33], [43, 77, 89]))\n",
    "print(matrix1 * matrix2)\n",
    "\n",
    "#Multiplikation\n",
    "print(np.matmul(matrix1, matrix2))"
   ]
  },
  {
   "cell_type": "markdown",
   "id": "bafb2506-9828-44ee-a487-7d25c5e5d306",
   "metadata": {},
   "source": [
    "#### k)"
   ]
  },
  {
   "cell_type": "code",
   "execution_count": null,
   "id": "221f6ecd-dd96-430c-b780-6fd4c1671567",
   "metadata": {},
   "outputs": [],
   "source": [
    "import numpy as np\n",
    "\n",
    "matrix1 = np.array(([21, 22, 23], [11, 22, 33], [43, 77, 89]))\n",
    "matrix2 = np.array(([21, 22, 23], [11, 22, 33], [43, 77, 89]))\n",
    "matrix3_c = np.c_[matrix2, matrix1]\n",
    "matrix4_r = np.r_[matrix3, matrix3]\n",
    "print(\"Spalten hinzugefügt: \")\n",
    "print(matrix3_c)\n",
    "print(\"_________________________________________________\")\n",
    "print(\"Zeilen hinzugefügt: \")\n",
    "print(matrix4_r)"
   ]
  },
  {
   "cell_type": "markdown",
   "id": "f3f27e57-38d7-4929-acb4-69d60c9f9451",
   "metadata": {},
   "source": [
    "#### l)"
   ]
  },
  {
   "cell_type": "code",
   "execution_count": null,
   "id": "0118d46e-5741-49b6-9e1f-6fecbf2ee350",
   "metadata": {},
   "outputs": [],
   "source": [
    "import numpy as np\n",
    "\n",
    "matrix1 = np.array(([21, 22, 23], [11, 22, 33], [43, 77, 89]))\n",
    "\n",
    "#Zeigt die Dimension an\n",
    "print(matrix1.shape)"
   ]
  },
  {
   "cell_type": "markdown",
   "id": "c0e21d20-c308-4888-8437-50714b78b682",
   "metadata": {},
   "source": [
    "#### m)"
   ]
  },
  {
   "cell_type": "code",
   "execution_count": null,
   "id": "04bf8f30-630b-4729-956d-dc15852c08b4",
   "metadata": {},
   "outputs": [],
   "source": [
    "import numpy as np\n",
    "\n",
    "matrix1 = np.array(([11, 22, 33, 43, 77, 89, 33],\n",
    "                   [11, 22, 33, 43, 77, 89, 33],\n",
    "                   [11, 22, 33, 43, 77, 89, 33],\n",
    "                   [11, 22, 33, 43, 77, 89, 33],\n",
    "                   [11, 22, 33, 43, 77, 89, 33],\n",
    "                   [11, 22, 33, 43, 77, 89, 33],\n",
    "                   [11, 22, 33, 43, 77, 89, 33],\n",
    "                   [11, 22, 33, 43, 77, 89, 33]))\n",
    "\n",
    "print(matrix1.reshape(14,4))"
   ]
  },
  {
   "cell_type": "markdown",
   "id": "ab2cd03d-2ddc-4854-8e02-ab27ce858770",
   "metadata": {},
   "source": [
    "#### n)"
   ]
  },
  {
   "cell_type": "code",
   "execution_count": null,
   "id": "df05bc70-378c-4d78-a900-460ecc5ba39f",
   "metadata": {},
   "outputs": [],
   "source": [
    "import numpy as np\n",
    "\n",
    "vektor1 = np.array([[1],\n",
    "           [2],\n",
    "           [3]])\n",
    "vektor2= np.array([[1],\n",
    "           [2],\n",
    "           [3]])\n",
    "for i in range(9999):\n",
    "     vektor1 = np.c_[vektor1, vektor2]\n",
    "    \n",
    "print(vektor1)"
   ]
  },
  {
   "cell_type": "markdown",
   "id": "b3fdbc41-683a-4a15-a19f-8281e04fc1e8",
   "metadata": {},
   "source": [
    "#### o)"
   ]
  },
  {
   "cell_type": "code",
   "execution_count": null,
   "id": "0b3836c4-6d2c-42c7-bbab-1e519f8c464f",
   "metadata": {},
   "outputs": [],
   "source": [
    "import numpy as np\n",
    "\n",
    "matrix1 = np.array(([-11, 22, 33, 43, 77, -89, 33],\n",
    "                   [11, 22, 33, -43, 77, 89, 33],\n",
    "                   [11, 22, 33, 43, 77, 89, 33],\n",
    "                   [11, 22, 33, 43, 77, 89, 33],\n",
    "                   [11, -22, 33, 43, -77, 89, 33],\n",
    "                   [11, 22, 33, 43, 77, 89, 33],\n",
    "                   [11, 22, 33, 43, 77, 89, 33],\n",
    "                   [11, -22, 33, -43, 77, 89, 33]))\n",
    "\n",
    "for i in range(8):\n",
    "    for j in range(7):\n",
    "        #Kleiner null sollen 0 gesetzt werden\n",
    "         if(matrix1[i][j]<0):\n",
    "                matrix1[i][j] = 0\n",
    "                \n",
    "print(matrix1)\n",
    "                "
   ]
  },
  {
   "cell_type": "markdown",
   "id": "a86a59c1-eb96-4d61-8f05-ff9f7b1ca2ba",
   "metadata": {},
   "source": [
    "#### p)"
   ]
  },
  {
   "cell_type": "code",
   "execution_count": null,
   "id": "6582e1f5-8a66-43e8-8d7e-a4245109c7c9",
   "metadata": {},
   "outputs": [],
   "source": [
    "import numpy as np\n",
    "\n",
    "matrix1 = np.array([[0]])\n",
    "j = 0\n",
    "\n",
    "for i in range(100):\n",
    "    #Erster index soll 7 sein!\n",
    "    if(i == 0):\n",
    "        if(matrix1[0] == 0):\n",
    "            matrix1[0] = 7\n",
    "    \n",
    "    if(i > 0):\n",
    "        #Jetzt wird bis zu 7. Zahl gezählt\n",
    "        j += 1\n",
    "        if(j == 7):\n",
    "            #Sobald 7 erreicht ist fangen wir an von vorne zu zählen\n",
    "            j = 0;\n",
    "            if(i != 7):\n",
    "                matrix1 = np.r_[matrix1, [[i]]]\n",
    "            \n",
    "        \n",
    "    \n",
    "\n",
    "                \n",
    "\n",
    "print(matrix1)\n",
    "                "
   ]
  },
  {
   "cell_type": "markdown",
   "id": "d447e794-771e-4ff4-a93b-352d7fa893f7",
   "metadata": {},
   "source": [
    "#### q)"
   ]
  },
  {
   "cell_type": "code",
   "execution_count": null,
   "id": "e388d3e9-fc14-420f-9bad-85b36ad55af0",
   "metadata": {},
   "outputs": [],
   "source": [
    "import numpy as np\n",
    "\n",
    "matrix1 = np.array([[0]])\n",
    "j = 0\n",
    "\n",
    "for i in range(100):\n",
    "     matrix1 = np.r_[matrix1, [[i]]]\n",
    "\n",
    "for i in range(100):\n",
    "    if(i == 0):\n",
    "        matrix1[i][0] = i\n",
    "    # Modulo 2 = 1 weil bei null beginnend\n",
    "    if(i%2 == 1):\n",
    "        matrix1[i][0] = 0\n",
    "                \n",
    "print(matrix1)"
   ]
  },
  {
   "cell_type": "markdown",
   "id": "79bf4fca-cf15-4eb0-80f6-1102e0ae2e3e",
   "metadata": {},
   "source": [
    "#### r)"
   ]
  },
  {
   "cell_type": "code",
   "execution_count": null,
   "id": "a3c5fb52-6172-4f03-b7fa-91f353105a8f",
   "metadata": {},
   "outputs": [],
   "source": [
    "import numpy as np\n",
    "\n",
    "matrix1 = np.array([[0]])\n",
    "\n",
    "for i in range(100):\n",
    "    if(i!=0):\n",
    "        matrix1 = np.r_[matrix1, [[i]]]\n",
    "\n",
    "j = 1;\n",
    "for i in range(101):\n",
    "    if(j == 0):\n",
    "        matrix1[j][0] = j\n",
    "    if(i%2 == 0 and i!= 0):\n",
    "        matrix1 = np.delete(matrix1, j, axis=0)\n",
    "        j += 1\n",
    "        \n",
    "                \n",
    "print(matrix1)"
   ]
  },
  {
   "cell_type": "markdown",
   "id": "1c808312-d631-480e-ac5f-b92e3cd23d97",
   "metadata": {},
   "source": [
    "#### s)"
   ]
  },
  {
   "cell_type": "code",
   "execution_count": null,
   "id": "eacc9fe4-04e2-4f65-89b8-0788b759ccee",
   "metadata": {},
   "outputs": [],
   "source": [
    "import numpy as np\n",
    "\n",
    "print(np.identity(3))"
   ]
  },
  {
   "cell_type": "markdown",
   "id": "4cc77188-0e26-455e-9862-67cb23e03ca6",
   "metadata": {},
   "source": [
    "#### t)"
   ]
  },
  {
   "cell_type": "code",
   "execution_count": null,
   "id": "ebe60ef3-cce7-43a6-8dc9-25b889713916",
   "metadata": {},
   "outputs": [],
   "source": [
    "import numpy as np\n",
    "\n",
    "matrix1 = np.array(([-11, 22, 33, 43, 77],\n",
    "                   [11, 22, 33, -43, 77],\n",
    "                   [11, 22, 33, 43, 77],\n",
    "                   [11, 22, 33, 43, 77],\n",
    "                   [11, -22, 33, 43, -77]))\n",
    "for i in range(5):\n",
    "    print(matrix1[i][i])\n",
    "    \n",
    "np.diag(matrix1)"
   ]
  },
  {
   "cell_type": "markdown",
   "id": "bb314f54-b8e8-4132-9cbe-eebde8bd2002",
   "metadata": {},
   "source": [
    "#### u)"
   ]
  },
  {
   "cell_type": "code",
   "execution_count": null,
   "id": "60234b5f",
   "metadata": {},
   "outputs": [],
   "source": [
    "import numpy as np\n",
    "import datetime\n",
    "\n",
    "matrix1 =np.random.rand(1000,3)\n",
    "matrix2 =np.random.rand(1000,3)\n",
    "sk = [0,0,0]\n",
    "\n",
    "\n",
    "startZeit = datetime.datetime.now()\n",
    "\n",
    "print(matrix1)\n",
    "for i in range(3):\n",
    "    for j in range(1000):\n",
    "        sk[i] += matrix1[j][i]*matrix2[j][i]\n",
    "\n",
    "endZeit = datetime.datetime.now()\n",
    "print(sk)\n",
    "#Dauer Insgesamt\n",
    "print(\"Zeit: \", endZeit - startZeit)"
   ]
  },
  {
   "cell_type": "markdown",
   "id": "90a296b4-86c1-46ca-a9d3-0848f6ba29b8",
   "metadata": {},
   "source": [
    "#### v)\n",
    "\n",
    " Für die Inverse einer $2x2$ Matrix $A = \\begin{pmatrix}a_{11} & a_{12}\\\\a_{21} & a_{22}\\end{pmatrix}$ gilt $A * A^{-1} = E = \\begin{pmatrix} 1 & 0 \\\\ 0 & 1\\end{pmatrix}$ sofern $ Det(A)!=0$ (sonst existiert keine Inverse.)\n",
    " \n",
    " \n",
    " $\\Rightarrow A^{-1} = \\begin{pmatrix}x_{11} & x_{12}\\\\x_{21} & x_{22}\\end{pmatrix}$\n",
    " \n",
    " Nach Cramscher Regel gelten folgende Gleichungen für die Inverse:\n",
    " \n",
    " $x_{11} = \\frac{1}{Det(A)}\\cdot Det(\\begin{pmatrix} 1 & a_{12} \\\\ 0 & a_{22}\\end{pmatrix}) =  \\frac{1}{Det(A)}\\cdot a_{22}$\n",
    " \n",
    " $x_{12} = \\frac{1}{Det(A)}\\cdot Det(\\begin{pmatrix} 0 & a_{12} \\\\ 1 & a_{22}\\end{pmatrix}) =  \\frac{1}{Det(A)}\\cdot -a_{12}$\n",
    " \n",
    " $x_{21} = \\frac{1}{Det(A)}\\cdot Det(\\begin{pmatrix} a_{11} & 1 \\\\ a_{21} & 0\\end{pmatrix}) =  \\frac{1}{Det(A)}\\cdot -a_{21}$\n",
    " \n",
    " $x_{22} = \\frac{1}{Det(A)}\\cdot Det(\\begin{pmatrix} a_{11} & 0 \\\\ a_{21} & 1\\end{pmatrix}) =  \\frac{1}{Det(A)}\\cdot a_{11}$\n",
    " \n",
    " $\\Rightarrow A^{-1} = \\frac{1}{Det(A)} \\cdot \\begin{pmatrix} a_{22} & -a_{12} \\\\ -a_{21} & a_{12}\\end{pmatrix}$  \n",
    " \n",
    " Daher folgende Berechnung ohne Schleifendurchlauf für die jeweiligen Matrizen!\n",
    " \n",
    " \n"
   ]
  },
  {
   "cell_type": "code",
   "execution_count": null,
   "id": "dbf628cb",
   "metadata": {},
   "outputs": [],
   "source": [
    "# import numpy as np\n",
    "\n",
    "matrix1 =np.random.randint(100, size=(1000,4))\n",
    "matrixInversen = np.zeros([1000, 4], dtype=float)\n",
    "determinanten = np.empty(1000, dtype=int)\n",
    "invertierbar = np.empty(1000, dtype=bool)\n",
    "\n",
    "for j in range(1000):\n",
    "        determinanten[j] = matrix1[j][0] * matrix1[j][3] -  matrix1[j][1] * matrix1[j][2]\n",
    "        if(determinanten[j] != 0):\n",
    "            invertierbar[j] = True;\n",
    "        else:\n",
    "            invertierbar[j] = False;\n",
    "\n",
    "print(matrix1)\n",
    "print(\"!!__________________________________________________!!\")\n",
    "print(determinanten)\n",
    "\n",
    "\n",
    "for j in range(1000):\n",
    "    if(invertierbar[j] == True):\n",
    "        matrixInversen[j][0] =   float(matrix1[j][3]/determinanten[j])\n",
    "        print(matrix1[j][3], \":\" , determinanten[j])\n",
    "        matrixInversen[j][1] =    float(-matrix1[j][1]/determinanten[j])\n",
    "        print(-matrix1[j][1], \":\" ,  float(determinanten[j]))\n",
    "        matrixInversen[j][2] =    float(-matrix1[j][2]/determinanten[j])\n",
    "        print(-matrix1[j][2], \":\" , determinanten[j])\n",
    "        matrixInversen[j][3] =   matrix1[j][0]/determinanten[j]\n",
    "        print(matrix1[j][0], \":\" ,  float(determinanten[j]))\n",
    "\n",
    "#Erste Matrix zum Überprüfen. Klappt soweit nur durch float nicht ganz genau!\n",
    "print(matrix1[0])\n",
    "print(matrixInversen[0])\n",
    "\n",
    "\n",
    "    "
   ]
  },
  {
   "cell_type": "markdown",
   "id": "cbf7e57f",
   "metadata": {},
   "source": [
    "# Aufgabe 3"
   ]
  },
  {
   "cell_type": "code",
   "execution_count": null,
   "id": "a7028ba7",
   "metadata": {},
   "outputs": [],
   "source": [
    "import matplotlib.pyplot as plt\n",
    "\n",
    "XWerte = np.random.randint(10, size=(20))\n",
    "YWerte = np.empty(20, dtype=float)\n",
    "for i in range(20):\n",
    "    YWerte[i] = XWerte[i]*2\n",
    "print(XWerte)\n",
    "print(YWerte)\n",
    "RauschWerte = np.random.normal(0, 1, YWerte.shape)\n",
    "for i in range(20):\n",
    "    YWerte[i] += RauschWerte[i]\n",
    "print(YWerte)\n"
   ]
  },
  {
   "cell_type": "code",
   "execution_count": null,
   "id": "645f84a7",
   "metadata": {},
   "outputs": [],
   "source": [
    "z = np.polyfit(XWerte, YWerte, 1)\n",
    "xp = np.linspace(0, 20, 20)\n",
    "_ = plt.plot(XWerte, YWerte, '.', xp, '-', xp, '--')\n",
    "plt.ylim(0, 20)\n",
    "plt.show()\n",
    "print(YWerte)"
   ]
  },
  {
   "cell_type": "code",
   "execution_count": null,
   "id": "9fa6c012",
   "metadata": {},
   "outputs": [],
   "source": [
    "XWerte2 = np.random.randint(-10, 10, size=(20))\n",
    "YWerte2 = np.empty(20, dtype=float)\n",
    "for i in range(20):\n",
    "    YWerte2[i] = XWerte2[i]^2\n",
    "print(XWerte2)\n",
    "print(YWerte2)\n",
    "RauschWerte2 = np.random.normal(0, 20, YWerte2.shape)\n",
    "for i in range(20):\n",
    "    YWerte2[i] += RauschWerte2[i]\n",
    "print(YWerte2)\n"
   ]
  },
  {
   "cell_type": "code",
   "execution_count": null,
   "id": "08b48575",
   "metadata": {},
   "outputs": [],
   "source": [
    "z2 = np.polyfit(XWerte, YWerte, 2)\n",
    "p1 = np.poly1d(z2)\n",
    "xp2 = np.linspace(0, 200, 20)\n",
    "_ = plt.plot(XWerte2, YWerte2, '.', xp2, p1(xp) , '-')\n",
    "plt.ylim(0, 200)\n",
    "plt.show()\n",
    "print(YWerte2)"
   ]
  },
  {
   "cell_type": "code",
   "execution_count": null,
   "id": "8fb2384f",
   "metadata": {},
   "outputs": [],
   "source": []
  },
  {
   "cell_type": "code",
   "execution_count": null,
   "id": "7b603941",
   "metadata": {},
   "outputs": [],
   "source": []
  }
 ],
 "metadata": {
  "kernelspec": {
   "display_name": "Python 3 (ipykernel)",
   "language": "python",
   "name": "python3"
  },
  "language_info": {
   "codemirror_mode": {
    "name": "ipython",
    "version": 3
   },
   "file_extension": ".py",
   "mimetype": "text/x-python",
   "name": "python",
   "nbconvert_exporter": "python",
   "pygments_lexer": "ipython3",
   "version": "3.10.1"
  }
 },
 "nbformat": 4,
 "nbformat_minor": 5
}
