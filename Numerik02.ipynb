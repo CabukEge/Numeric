{
 "cells": [
  {
   "cell_type": "code",
   "execution_count": null,
   "id": "25db6bbc",
   "metadata": {},
   "outputs": [],
   "source": [
    "import numpy as np\n",
    "\n",
    "A = np.matrix('1 -1 1; 1 0 0; 1 1 1; 1 2 4')\n",
    "b = np.array([[1], [0], [2], [5]])\n",
    "\n",
    "\n",
    "AA = np.matmul(A.transpose(),A)\n",
    "Ab = np.matmul(A.transpose(),b)\n",
    "AAInverse = np.linalg.inv(AA)\n",
    "Ergebnis = np.matmul(AAInverse,Ab)\n",
    "\n",
    "print(\"A =\",A)\n",
    "print(\"________________\")\n",
    "print(\"b =\",b)\n",
    "print(\"________________\")\n",
    "print(\"A*A =\",AA)\n",
    "print(\"________________\")\n",
    "print(\"A*b =\",Ab)\n",
    "print(\"________________\")\n",
    "print(\"(A*A)^-1 =\",AAInverse)\n",
    "print(\"________________\")\n",
    "print(\"Test: ((A*A)^-1) * A =\")\n",
    "print(np.matmul(AA,AAInverse))\n",
    "print(\"________________\")\n",
    "print(Ergebnis)\n",
    "print(\"________________\")\n",
    "\n",
    "\n",
    "\n"
   ]
  },
  {
   "cell_type": "markdown",
   "id": "8c148688",
   "metadata": {},
   "source": [
    "$\\rightarrow g(x) = x^2 + 0,4 x + 0,3$"
   ]
  },
  {
   "cell_type": "markdown",
   "id": "0bcbfdbe",
   "metadata": {},
   "source": []
  }
 ],
 "metadata": {
  "kernelspec": {
   "display_name": "Python 3 (ipykernel)",
   "language": "python",
   "name": "python3"
  },
  "language_info": {
   "codemirror_mode": {
    "name": "ipython",
    "version": 3
   },
   "file_extension": ".py",
   "mimetype": "text/x-python",
   "name": "python",
   "nbconvert_exporter": "python",
   "pygments_lexer": "ipython3",
   "version": "3.9.7"
  }
 },
 "nbformat": 4,
 "nbformat_minor": 5
}
